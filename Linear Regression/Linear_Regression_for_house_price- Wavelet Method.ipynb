{
 "cells": [
  {
   "cell_type": "markdown",
   "metadata": {},
   "source": [
    "## Linear Regression for house price"
   ]
  },
  {
   "cell_type": "markdown",
   "metadata": {},
   "source": [
    "## 1-Import the libraries"
   ]
  },
  {
   "cell_type": "code",
   "execution_count": 2,
   "metadata": {},
   "outputs": [],
   "source": [
    "import numpy as np\n",
    "import matplotlib.pyplot as plt"
   ]
  },
  {
   "cell_type": "markdown",
   "metadata": {},
   "source": [
    "## 2-Load the data"
   ]
  },
  {
   "cell_type": "code",
   "execution_count": 73,
   "metadata": {},
   "outputs": [],
   "source": [
    "path=\"C:\\\\Users\\\\Majid1\\\\Desktop\\\\house_price_data.txt\"\n",
    "data =np.genfromtxt(path, delimiter=',')"
   ]
  },
  {
   "cell_type": "code",
   "execution_count": 74,
   "metadata": {},
   "outputs": [
    {
     "data": {
      "text/plain": [
       "(41, 2)"
      ]
     },
     "execution_count": 74,
     "metadata": {},
     "output_type": "execute_result"
    }
   ],
   "source": [
    "data.shape"
   ]
  },
  {
   "cell_type": "markdown",
   "metadata": {},
   "source": [
    "## 3-Normalize the data"
   ]
  },
  {
   "cell_type": "code",
   "execution_count": 75,
   "metadata": {},
   "outputs": [],
   "source": [
    "for i in range(2):\n",
    "    data[:,i]=(data[:,i]-np.min(data[:,i], axis=0))/(np.max(data[:,i], axis=0)-np.min(data[:,i], axis=0))"
   ]
  },
  {
   "cell_type": "code",
   "execution_count": 76,
   "metadata": {},
   "outputs": [
    {
     "data": {
      "text/plain": [
       "array([[0.70140056, 0.6969697 ],\n",
       "       [0.41904762, 0.48484848],\n",
       "       [0.86722689, 0.60333333],\n",
       "       [0.31596639, 0.18818182],\n",
       "       [0.63473389, 0.39393939],\n",
       "       [0.38207283, 0.43939394],\n",
       "       [0.32212885, 0.08787879],\n",
       "       [0.29579832, 0.12757576],\n",
       "       [0.35966387, 0.22      ],\n",
       "       [0.60952381, 0.21212121],\n",
       "       [0.64313725, 0.53666667],\n",
       "       [0.58151261, 0.48484848],\n",
       "       [0.23305322, 0.27272727],\n",
       "       [0.81120448, 0.84848485],\n",
       "       [0.26218487, 0.39393939],\n",
       "       [0.21512605, 0.09090909],\n",
       "       [0.98431373, 1.        ],\n",
       "       [0.51260504, 0.25151515],\n",
       "       [0.58039216, 0.25787879],\n",
       "       [0.42128852, 0.22121212],\n",
       "       [0.62184874, 0.27272727],\n",
       "       [0.13893557, 0.24242424],\n",
       "       [0.3394958 , 0.89272727],\n",
       "       [0.93781513, 0.90636364],\n",
       "       [0.75518207, 0.92454545],\n",
       "       [1.        , 0.39393939],\n",
       "       [0.55294118, 0.54545455],\n",
       "       [0.08291317, 0.        ],\n",
       "       [0.66554622, 0.43939394],\n",
       "       [0.5372549 , 0.35151515],\n",
       "       [0.32773109, 0.24242424],\n",
       "       [0.21680672, 0.18181818],\n",
       "       [0.71708683, 0.53060606],\n",
       "       [0.73389356, 0.35484848],\n",
       "       [0.45490196, 0.60181818],\n",
       "       [0.77647059, 0.48484848],\n",
       "       [0.96078431, 0.43666667],\n",
       "       [0.19495798, 0.39121212],\n",
       "       [0.        , 0.03030303],\n",
       "       [0.56022409, 0.39393939],\n",
       "       [0.19663866, 0.21090909]])"
      ]
     },
     "execution_count": 76,
     "metadata": {},
     "output_type": "execute_result"
    }
   ],
   "source": [
    "data"
   ]
  },
  {
   "cell_type": "markdown",
   "metadata": {},
   "source": [
    "## 3-Wavelet- Features and Labels"
   ]
  },
  {
   "cell_type": "code",
   "execution_count": 153,
   "metadata": {},
   "outputs": [],
   "source": [
    "def h(x):\n",
    "    if x <= 0.5:\n",
    "        return 1\n",
    "    else:\n",
    "        return -1\n",
    "        "
   ]
  },
  {
   "cell_type": "code",
   "execution_count": 154,
   "metadata": {},
   "outputs": [],
   "source": [
    "data1=np.zeros(41)\n",
    "for i in range(len(data[:,0])):\n",
    "               data1[i]=h(data[i,0])"
   ]
  },
  {
   "cell_type": "code",
   "execution_count": 155,
   "metadata": {},
   "outputs": [],
   "source": [
    "x=data1\n",
    "y=data[:,1]"
   ]
  },
  {
   "cell_type": "markdown",
   "metadata": {},
   "source": [
    "## 4-Visualize the data"
   ]
  },
  {
   "cell_type": "code",
   "execution_count": 156,
   "metadata": {},
   "outputs": [
    {
     "data": {
      "image/png": "[encoded data removed]",
      "text/plain": [
       "<Figure size 720x432 with 1 Axes>"
      ]
     },
     "metadata": {
      "needs_background": "light"
     },
     "output_type": "display_data"
    }
   ],
   "source": [
    "fig=plt.figure(figsize=(10,6))\n",
    "plt.scatter(data[:,0],y)\n",
    "plt.show()"
   ]
  },
  {
   "cell_type": "markdown",
   "metadata": {},
   "source": [
    "## 5- Add one column as bais column"
   ]
  },
  {
   "cell_type": "code",
   "execution_count": 157,
   "metadata": {},
   "outputs": [],
   "source": [
    "X=np.column_stack((np.ones_like(x),x))"
   ]
  },
  {
   "cell_type": "code",
   "execution_count": 158,
   "metadata": {},
   "outputs": [
    {
     "data": {
      "text/plain": [
       "(41, 2)"
      ]
     },
     "execution_count": 158,
     "metadata": {},
     "output_type": "execute_result"
    }
   ],
   "source": [
    "X.shape"
   ]
  },
  {
   "cell_type": "markdown",
   "metadata": {},
   "source": [
    "## 6-Loss function"
   ]
  },
  {
   "cell_type": "code",
   "execution_count": 159,
   "metadata": {},
   "outputs": [],
   "source": [
    "def Loss_Function(theta):\n",
    "    return (1/2)*(X@theta -y)@(X@theta-y).T\n"
   ]
  },
  {
   "cell_type": "markdown",
   "metadata": {},
   "source": [
    "##  7-Jacobian"
   ]
  },
  {
   "cell_type": "code",
   "execution_count": 160,
   "metadata": {},
   "outputs": [],
   "source": [
    "def Jac(theta):\n",
    "    return (X.T)@(X@theta -y)\n"
   ]
  },
  {
   "cell_type": "markdown",
   "metadata": {},
   "source": [
    "## 8-Gradient descent"
   ]
  },
  {
   "cell_type": "code",
   "execution_count": 167,
   "metadata": {},
   "outputs": [],
   "source": [
    "lr=0.01     # learning rate\n",
    "def gradient_descent(theta):\n",
    "    return theta-lr*Jac(theta)"
   ]
  },
  {
   "cell_type": "code",
   "execution_count": 168,
   "metadata": {},
   "outputs": [
    {
     "name": "stdout",
     "output_type": "stream",
     "text": [
      "Theta= [ 0.39729448 -0.11727853]\n",
      "Jec(theta)= [-2.24480545e-10 -2.18669305e-10]\n"
     ]
    }
   ],
   "source": [
    "n=50   #epoch number\n",
    "theta=np.array([0,0])\n",
    "\n",
    "for i in range(n):\n",
    "    theta= gradient_descent(theta)\n",
    "    \n",
    "    \n",
    "print(\"Theta=\", theta)\n",
    "print(\"Jec(theta)=\", Jac(theta))\n",
    "\n",
    "  "
   ]
  },
  {
   "cell_type": "markdown",
   "metadata": {},
   "source": [
    "## 9-Predict function"
   ]
  },
  {
   "cell_type": "code",
   "execution_count": 169,
   "metadata": {},
   "outputs": [],
   "source": [
    "def y_pred(theta):\n",
    "    return X@theta\n"
   ]
  },
  {
   "cell_type": "markdown",
   "metadata": {},
   "source": [
    "## 10-Error function"
   ]
  },
  {
   "cell_type": "code",
   "execution_count": 170,
   "metadata": {},
   "outputs": [],
   "source": [
    "def error(theta):\n",
    "    return 0.5*np.sum((y-y_pred(theta))**2)\n",
    "\n"
   ]
  },
  {
   "cell_type": "code",
   "execution_count": 150,
   "metadata": {},
   "outputs": [
    {
     "name": "stdout",
     "output_type": "stream",
     "text": [
      "Error= 0.973504259208\n"
     ]
    }
   ],
   "source": [
    "print(\"Error=\", error(theta))\n",
    "\n"
   ]
  },
  {
   "cell_type": "code",
   "execution_count": 152,
   "metadata": {},
   "outputs": [
    {
     "data": {
      "image/png": "[encoded data removed]",
      "text/plain": [
       "<Figure size 720x432 with 1 Axes>"
      ]
     },
     "metadata": {
      "needs_background": "light"
     },
     "output_type": "display_data"
    }
   ],
   "source": [
    "fig=plt.figure(figsize=(10,6))\n",
    "#plt.scatter(x,y_pred)\n",
    "plt.plot(data[:,0],X@theta, color='r')\n",
    "plt.scatter(data[:,0],y, color='b')\n",
    "plt.show()"
   ]
  },
  {
   "cell_type": "code",
   "execution_count": null,
   "metadata": {},
   "outputs": [],
   "source": []
  }
 ],
 "metadata": {
  "kernelspec": {
   "display_name": "Python 3",
   "language": "python",
   "name": "python3"
  },
  "language_info": {
   "codemirror_mode": {
    "name": "ipython",
    "version": 3
   },
   "file_extension": ".py",
   "mimetype": "text/x-python",
   "name": "python",
   "nbconvert_exporter": "python",
   "pygments_lexer": "ipython3",
   "version": "3.7.3"
  }
 },
 "nbformat": 4,
 "nbformat_minor": 2
}
