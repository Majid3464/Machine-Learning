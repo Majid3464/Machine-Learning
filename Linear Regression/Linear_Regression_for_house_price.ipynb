{
 "cells": [
  {
   "cell_type": "markdown",
   "metadata": {},
   "source": [
    "## Linear Regression for house price"
   ]
  },
  {
   "cell_type": "markdown",
   "metadata": {},
   "source": [
    "## 1-Import the libraries"
   ]
  },
  {
   "cell_type": "code",
   "execution_count": null,
   "metadata": {},
   "outputs": [],
   "source": [
    "import numpy as np\n",
    "import matplotlib.pyplot as plt"
   ]
  },
  {
   "cell_type": "markdown",
   "metadata": {},
   "source": [
    "## 2-Load the data"
   ]
  },
  {
   "cell_type": "code",
   "execution_count": 331,
   "metadata": {},
   "outputs": [],
   "source": [
    "path=\"C:\\\\Users\\\\Majid1\\\\Desktop\\\\house_price_data.txt\"\n",
    "data =np.genfromtxt(path, delimiter=',')"
   ]
  },
  {
   "cell_type": "code",
   "execution_count": 332,
   "metadata": {},
   "outputs": [
    {
     "data": {
      "text/plain": [
       "array([[2104., 3999.],\n",
       "       [1600., 3299.],\n",
       "       [2400., 3690.],\n",
       "       [1416., 2320.],\n",
       "       [1985., 2999.],\n",
       "       [1534., 3149.],\n",
       "       [1427., 1989.],\n",
       "       [1380., 2120.],\n",
       "       [1494., 2425.],\n",
       "       [1940., 2399.],\n",
       "       [2000., 3470.],\n",
       "       [1890., 3299.],\n",
       "       [1268., 2599.],\n",
       "       [2300., 4499.],\n",
       "       [1320., 2999.],\n",
       "       [1236., 1999.],\n",
       "       [2609., 4999.],\n",
       "       [1767., 2529.],\n",
       "       [1888., 2550.],\n",
       "       [1604., 2429.],\n",
       "       [1962., 2599.],\n",
       "       [1100., 2499.],\n",
       "       [1458., 4645.],\n",
       "       [2526., 4690.],\n",
       "       [2200., 4750.],\n",
       "       [2637., 2999.],\n",
       "       [1839., 3499.],\n",
       "       [1000., 1699.],\n",
       "       [2040., 3149.],\n",
       "       [1811., 2859.],\n",
       "       [1437., 2499.],\n",
       "       [1239., 2299.],\n",
       "       [2132., 3450.],\n",
       "       [2162., 2870.],\n",
       "       [1664., 3685.],\n",
       "       [2238., 3299.],\n",
       "       [2567., 3140.],\n",
       "       [1200., 2990.],\n",
       "       [ 852., 1799.],\n",
       "       [1852., 2999.],\n",
       "       [1203., 2395.]])"
      ]
     },
     "execution_count": 332,
     "metadata": {},
     "output_type": "execute_result"
    }
   ],
   "source": [
    "data"
   ]
  },
  {
   "cell_type": "markdown",
   "metadata": {},
   "source": [
    "## 3-Normalize the data"
   ]
  },
  {
   "cell_type": "code",
   "execution_count": 311,
   "metadata": {},
   "outputs": [],
   "source": [
    "for i in range(2):\n",
    "    data[:,i]=(data[:,i]-np.mean(data[:,i], axis=0))/np.std(data[:,i], axis=0)"
   ]
  },
  {
   "cell_type": "code",
   "execution_count": 312,
   "metadata": {},
   "outputs": [
    {
     "data": {
      "text/plain": [
       "array([[ 0.73728367,  1.17697894],\n",
       "       [-0.35227006,  0.31930989],\n",
       "       [ 1.3771803 ,  0.79837931],\n",
       "       [-0.75004364, -0.88020154],\n",
       "       [ 0.48002793, -0.04826256],\n",
       "       [-0.49494971,  0.13552366],\n",
       "       [-0.7262637 , -1.28575648],\n",
       "       [-0.8278689 , -1.12524984],\n",
       "       [-0.58142223, -0.75155118],\n",
       "       [ 0.38274635, -0.78340746],\n",
       "       [ 0.51245512,  0.52882618],\n",
       "       [ 0.2746557 ,  0.31930989],\n",
       "       [-1.06999195, -0.53835916],\n",
       "       [ 1.16099901,  1.78959969],\n",
       "       [-0.95757768, -0.04826256],\n",
       "       [-1.13916997, -1.27350406],\n",
       "       [ 1.82899921,  2.40222044],\n",
       "       [ 0.00875271, -0.62412607],\n",
       "       [ 0.27033207, -0.59839599],\n",
       "       [-0.3436228 , -0.74665022],\n",
       "       [ 0.43030623, -0.53835916],\n",
       "       [-1.43317653, -0.66088331],\n",
       "       [-0.65924749,  1.96848495],\n",
       "       [ 1.64956873,  2.02362081],\n",
       "       [ 0.94481771,  2.0971353 ],\n",
       "       [ 1.88952997, -0.04826256],\n",
       "       [ 0.16440324,  0.56435819],\n",
       "       [-1.64935782, -1.64107651],\n",
       "       [ 0.59892764,  0.13552366],\n",
       "       [ 0.10387248, -0.21979637],\n",
       "       [-0.70464557, -0.66088331],\n",
       "       [-1.13268453, -0.90593161],\n",
       "       [ 0.79781443,  0.50432135],\n",
       "       [ 0.86266882, -0.20631871],\n",
       "       [-0.21391403,  0.79225311],\n",
       "       [ 1.0269666 ,  0.31930989],\n",
       "       [ 1.73820306,  0.12449649],\n",
       "       [-1.21699524, -0.05928973],\n",
       "       [-1.96930614, -1.51855236],\n",
       "       [ 0.19250681, -0.04826256],\n",
       "       [-1.2105098 , -0.78830843]])"
      ]
     },
     "execution_count": 312,
     "metadata": {},
     "output_type": "execute_result"
    }
   ],
   "source": [
    "data"
   ]
  },
  {
   "cell_type": "markdown",
   "metadata": {},
   "source": [
    "## 3-Features and labels"
   ]
  },
  {
   "cell_type": "code",
   "execution_count": null,
   "metadata": {},
   "outputs": [],
   "source": [
    "x=data[:,0]\n",
    "y=data[:,1]"
   ]
  },
  {
   "cell_type": "markdown",
   "metadata": {},
   "source": [
    "## 4-Visualize the data"
   ]
  },
  {
   "cell_type": "code",
   "execution_count": 313,
   "metadata": {},
   "outputs": [
    {
     "data": {
      "image/png": "[encoded data removed]",
      "text/plain": [
       "<Figure size 720x432 with 1 Axes>"
      ]
     },
     "metadata": {
      "needs_background": "light"
     },
     "output_type": "display_data"
    }
   ],
   "source": [
    "fig=plt.figure(figsize=(10,6))\n",
    "plt.scatter(x,y)\n",
    "plt.show()"
   ]
  },
  {
   "cell_type": "markdown",
   "metadata": {},
   "source": [
    "## 5- Add one column as bais column"
   ]
  },
  {
   "cell_type": "code",
   "execution_count": 266,
   "metadata": {},
   "outputs": [],
   "source": [
    "X=np.column_stack((np.ones_like(x),x))"
   ]
  },
  {
   "cell_type": "code",
   "execution_count": 267,
   "metadata": {},
   "outputs": [
    {
     "data": {
      "text/plain": [
       "(41, 2)"
      ]
     },
     "execution_count": 267,
     "metadata": {},
     "output_type": "execute_result"
    }
   ],
   "source": [
    "X.shape"
   ]
  },
  {
   "cell_type": "code",
   "execution_count": 268,
   "metadata": {},
   "outputs": [
    {
     "data": {
      "text/plain": [
       "array([[ 1.        ,  0.73728367],\n",
       "       [ 1.        , -0.35227006],\n",
       "       [ 1.        ,  1.3771803 ],\n",
       "       [ 1.        , -0.75004364],\n",
       "       [ 1.        ,  0.48002793],\n",
       "       [ 1.        , -0.49494971],\n",
       "       [ 1.        , -0.7262637 ],\n",
       "       [ 1.        , -0.8278689 ],\n",
       "       [ 1.        , -0.58142223],\n",
       "       [ 1.        ,  0.38274635],\n",
       "       [ 1.        ,  0.51245512],\n",
       "       [ 1.        ,  0.2746557 ],\n",
       "       [ 1.        , -1.06999195],\n",
       "       [ 1.        ,  1.16099901],\n",
       "       [ 1.        , -0.95757768],\n",
       "       [ 1.        , -1.13916997],\n",
       "       [ 1.        ,  1.82899921],\n",
       "       [ 1.        ,  0.00875271],\n",
       "       [ 1.        ,  0.27033207],\n",
       "       [ 1.        , -0.3436228 ],\n",
       "       [ 1.        ,  0.43030623],\n",
       "       [ 1.        , -1.43317653],\n",
       "       [ 1.        , -0.65924749],\n",
       "       [ 1.        ,  1.64956873],\n",
       "       [ 1.        ,  0.94481771],\n",
       "       [ 1.        ,  1.88952997],\n",
       "       [ 1.        ,  0.16440324],\n",
       "       [ 1.        , -1.64935782],\n",
       "       [ 1.        ,  0.59892764],\n",
       "       [ 1.        ,  0.10387248],\n",
       "       [ 1.        , -0.70464557],\n",
       "       [ 1.        , -1.13268453],\n",
       "       [ 1.        ,  0.79781443],\n",
       "       [ 1.        ,  0.86266882],\n",
       "       [ 1.        , -0.21391403],\n",
       "       [ 1.        ,  1.0269666 ],\n",
       "       [ 1.        ,  1.73820306],\n",
       "       [ 1.        , -1.21699524],\n",
       "       [ 1.        , -1.96930614],\n",
       "       [ 1.        ,  0.19250681],\n",
       "       [ 1.        , -1.2105098 ]])"
      ]
     },
     "execution_count": 268,
     "metadata": {},
     "output_type": "execute_result"
    }
   ],
   "source": [
    "X"
   ]
  },
  {
   "cell_type": "markdown",
   "metadata": {},
   "source": [
    "## 6-Loss function"
   ]
  },
  {
   "cell_type": "code",
   "execution_count": 270,
   "metadata": {},
   "outputs": [],
   "source": [
    "def Loss_Function(theta):\n",
    "    return (1/2)*(X@theta -y)@(X@theta-y).T"
   ]
  },
  {
   "cell_type": "markdown",
   "metadata": {},
   "source": [
    "##  7-Jacobian"
   ]
  },
  {
   "cell_type": "code",
   "execution_count": 323,
   "metadata": {},
   "outputs": [],
   "source": [
    "def Jac(theta):\n",
    "    return (X.T)@(X@theta -y)"
   ]
  },
  {
   "cell_type": "markdown",
   "metadata": {},
   "source": [
    "## 8-Gradient descent"
   ]
  },
  {
   "cell_type": "code",
   "execution_count": 333,
   "metadata": {},
   "outputs": [],
   "source": [
    "lr=0.01     # learning rate\n",
    "def gradient_descent(theta):\n",
    "    return theta-lr*Jac(theta)"
   ]
  },
  {
   "cell_type": "code",
   "execution_count": 334,
   "metadata": {},
   "outputs": [
    {
     "name": "stdout",
     "output_type": "stream",
     "text": [
      "Theta= [6.67621560e-08 6.59078853e-01]\n",
      "Jec(theta)= [ 2.73724840e-06 -8.70876788e-07]\n"
     ]
    }
   ],
   "source": [
    "n=30   #epoch number\n",
    "theta=np.array([0.5,0.5])\n",
    "\n",
    "for i in range(n):\n",
    "    theta= gradient_descent(theta)\n",
    "    \n",
    "print(\"Theta=\", theta)\n",
    "print(\"Jec(theta)=\", Jac(theta))\n",
    "  "
   ]
  },
  {
   "cell_type": "markdown",
   "metadata": {},
   "source": [
    "## 9-Predict function"
   ]
  },
  {
   "cell_type": "code",
   "execution_count": 326,
   "metadata": {},
   "outputs": [],
   "source": [
    "def y_pred(theta):\n",
    "    return X@theta"
   ]
  },
  {
   "cell_type": "markdown",
   "metadata": {},
   "source": [
    "## 10-Error function"
   ]
  },
  {
   "cell_type": "code",
   "execution_count": 327,
   "metadata": {},
   "outputs": [],
   "source": [
    "def error(theta):\n",
    "    return np.sum((y-y_pred(theta))**2)"
   ]
  },
  {
   "cell_type": "code",
   "execution_count": 328,
   "metadata": {},
   "outputs": [
    {
     "name": "stdout",
     "output_type": "stream",
     "text": [
      "Error= 23.190216563834586\n"
     ]
    }
   ],
   "source": [
    "print(\"Error=\", error(theta))"
   ]
  },
  {
   "cell_type": "code",
   "execution_count": 329,
   "metadata": {},
   "outputs": [
    {
     "data": {
      "image/png": "[encoded data removed]",
      "text/plain": [
       "<Figure size 720x432 with 1 Axes>"
      ]
     },
     "metadata": {
      "needs_background": "light"
     },
     "output_type": "display_data"
    }
   ],
   "source": [
    "fig=plt.figure(figsize=(10,6))\n",
    "plt.scatter(x,y)\n",
    "plt.plot(x,X@theta, color='r')\n",
    "plt.show()"
   ]
  }
 ],
 "metadata": {
  "kernelspec": {
   "display_name": "Python 3",
   "language": "python",
   "name": "python3"
  },
  "language_info": {
   "codemirror_mode": {
    "name": "ipython",
    "version": 3
   },
   "file_extension": ".py",
   "mimetype": "text/x-python",
   "name": "python",
   "nbconvert_exporter": "python",
   "pygments_lexer": "ipython3",
   "version": "3.7.3"
  }
 },
 "nbformat": 4,
 "nbformat_minor": 2
}
